{
 "cells": [
  {
   "cell_type": "markdown",
   "id": "7d930c89-4954-4e39-be5a-601c1dd89512",
   "metadata": {
    "id": "7d930c89-4954-4e39-be5a-601c1dd89512"
   },
   "source": [
    "# SQL query from table names - Continued"
   ]
  },
  {
   "cell_type": "code",
   "execution_count": 1,
   "id": "a03f026a",
   "metadata": {
    "id": "a03f026a"
   },
   "outputs": [],
   "source": [
    "from openai import OpenAI\n",
    "import os\n",
    "from dotenv import load_dotenv, find_dotenv\n",
    "_ = load_dotenv(find_dotenv())\n",
    "\n",
    "OPENAI_API_KEY  = os.getenv('OPENAI_API_KEY')"
   ]
  },
  {
   "cell_type": "markdown",
   "id": "53a05b80-88fd-42b2-ba89-763074ae74e9",
   "metadata": {
    "id": "53a05b80-88fd-42b2-ba89-763074ae74e9"
   },
   "source": [
    "## The old Prompt"
   ]
  },
  {
   "cell_type": "code",
   "execution_count": 2,
   "id": "922f8d24",
   "metadata": {
    "id": "922f8d24"
   },
   "outputs": [],
   "source": [
    "#The old prompt\n",
    "old_context = [ {'role':'system', 'content':\"\"\"\n",
    "you are a bot to assist in create SQL commands, all your answers should start with \\\n",
    "this is your SQL, and after that an SQL that can do what the user request. \\\n",
    "Your Database is composed by a SQL database with some tables. \\\n",
    "Try to maintain the SQL order simple.\n",
    "Put the SQL command in white letters with a black background, and just after \\\n",
    "a simple and concise text explaining how it works.\n",
    "If the user ask for something that can not be solved with an SQL Order \\\n",
    "just answer something nice and simple, maximum 10 words, asking him for something that \\\n",
    "can be solved with SQL.\n",
    "\"\"\"} ]\n",
    "\n",
    "old_context.append( {'role':'system', 'content':\"\"\"\n",
    "first table:\n",
    "{\n",
    "  \"tableName\": \"employees\",\n",
    "  \"fields\": [\n",
    "    {\n",
    "      \"nombre\": \"ID_usr\",\n",
    "      \"tipo\": \"int\"\n",
    "    },\n",
    "    {\n",
    "      \"nombre\": \"name\",\n",
    "      \"tipo\": \"varchar\"\n",
    "    }\n",
    "  ]\n",
    "}\n",
    "\"\"\"\n",
    "})\n",
    "\n",
    "old_context.append( {'role':'system', 'content':\"\"\"\n",
    "second table:\n",
    "{\n",
    "  \"tableName\": \"salary\",\n",
    "  \"fields\": [\n",
    "    {\n",
    "      \"nombre\": \"ID_usr\",\n",
    "      \"type\": \"int\"\n",
    "    },\n",
    "    {\n",
    "      \"name\": \"year\",\n",
    "      \"type\": \"date\"\n",
    "    },\n",
    "    {\n",
    "      \"name\": \"salary\",\n",
    "      \"type\": \"float\"\n",
    "    }\n",
    "  ]\n",
    "}\n",
    "\"\"\"\n",
    "})\n",
    "\n",
    "old_context.append( {'role':'system', 'content':\"\"\"\n",
    "third table:\n",
    "{\n",
    "  \"tablename\": \"studies\",\n",
    "  \"fields\": [\n",
    "    {\n",
    "      \"name\": \"ID\",\n",
    "      \"type\": \"int\"\n",
    "    },\n",
    "    {\n",
    "      \"name\": \"ID_usr\",\n",
    "      \"type\": \"int\"\n",
    "    },\n",
    "    {\n",
    "      \"name\": \"educational_level\",\n",
    "      \"type\": \"int\"\n",
    "    },\n",
    "    {\n",
    "      \"name\": \"Institution\",\n",
    "      \"type\": \"varchar\"\n",
    "    },\n",
    "    {\n",
    "      \"name\": \"Years\",\n",
    "      \"type\": \"date\"\n",
    "    }\n",
    "    {\n",
    "      \"name\": \"Speciality\",\n",
    "      \"type\": \"varchar\"\n",
    "    }\n",
    "  ]\n",
    "}\n",
    "\"\"\"\n",
    "})"
   ]
  },
  {
   "cell_type": "markdown",
   "id": "377acaae-7dd0-4d13-bc68-9e33741c231c",
   "metadata": {
    "id": "377acaae-7dd0-4d13-bc68-9e33741c231c"
   },
   "source": [
    "## New Prompt.\n",
    "We are going to improve it following the instructions of a Paper from the Ohaio University: [How to Prompt LLMs for Text-to-SQL: A Study in Zero-shot, Single-domain, and Cross-domain Settings](https://arxiv.org/abs/2305.11853). I recommend you read that paper.\n",
    "\n",
    "For each table, we will define the structure using the same syntax as in a SQL create table command, and add the sample rows of the content.\n",
    "\n",
    "Finally, at the end of the prompt, we'll include some example queries with the SQL that the model should generate. This technique is called Few-Shot Samples, in which we provide the prompt with some examples to assist it in generating the correct SQL.\n"
   ]
  },
  {
   "cell_type": "code",
   "execution_count": 3,
   "id": "5334f942",
   "metadata": {
    "id": "5334f942"
   },
   "outputs": [],
   "source": [
    "context = [ {'role':'system', 'content':\"\"\"\n",
    "    create table employees(\n",
    "        ID_Usr INT primary key,\n",
    "        name VARCHAR);\n",
    "    /*3 example rows\n",
    "    select * from employees limit 3;\n",
    "    ID_Usr    name\n",
    "    1344      George StPierre\n",
    "    2122      Jon jones\n",
    "    1265      Anderson Silva\n",
    "    */\n",
    "    \n",
    "    create table salary(\n",
    "        ID_Usr INT primary key,\n",
    "        year date,\n",
    "        salary float,\n",
    "        foreign key (ID_Usr) references employees(ID_Usr));\n",
    "    /*3 example rows\n",
    "    select * from salary limit 3;\n",
    "    ID_Usr    date       salary\n",
    "    1344      2025       100000.00\n",
    "    2122      2023       36000.00\n",
    "    1265      2024       50000.00   \n",
    "    */\n",
    "             \n",
    "    create table studies(\n",
    "        ID INT,\n",
    "        ID_Usr INT,\n",
    "        educational_level INT,  /* 5=phd, 4=Master, 3=Bachelor */\n",
    "        Institution VARCHAR,\n",
    "        years date,\n",
    "        speciality VARCHAR,\n",
    "        primary key (ID_study, ID_Usr),\n",
    "        foreign key(ID_Usr) references employees (ID_Usr));\n",
    "    /*3 example rows\n",
    "    select * from studies limit 3;\n",
    "    ID      ID_Usr    educational_level     Institution      Years     Speciality\n",
    "    22      1344      5                     MIT              2022      AI\n",
    "    45      2122      3                     UIC Barcelona    2018      Business\n",
    "    07      1265      3                     Harvard          2020      Medicine\n",
    "    */\n",
    "\"\"\"} ]\n",
    "\n"
   ]
  },
  {
   "cell_type": "code",
   "execution_count": null,
   "id": "330e69b0-3f5f-4bb2-8185-aedded2bb993",
   "metadata": {
    "id": "330e69b0-3f5f-4bb2-8185-aedded2bb993"
   },
   "outputs": [],
   "source": [
    "#FEW SHOT SAMPLES\n",
    "context.append( {'role':'system', 'content':\"\"\"\n",
    " -- Maintain the SQL order simple and efficient as you can, using valid SQL Lite, answer the following questions for the table provided above.\n",
    "Question: How Many employes we have with a level of education higher than a Bachelor's degree?\n",
    "SELECT COUNT(*) AS total_employees\n",
    "FROM employees e\n",
    "INNER JOIN studies st ON e.ID_Usr = st.ID_Usr\n",
    "WHERE st.educational_level > 3;\n",
    "Question: Return the names of the three people who have had the lowest salary increase in the last three years.\n",
    "SELECT e.name\n",
    "FROM employees e\n",
    "JOIN salary s ON e.ID_usr = s.ID_usr\n",
    "WHERE s.year >= DATE_SUB(CURDATE(), INTERVAL 3 YEAR)\n",
    "GROUP BY e.name\n",
    "ORDER BY (MAX(s.salary) - MIN(s.salary)) ASC\n",
    "LIMIT 3;\n",
    "\"\"\"\n",
    "})"
   ]
  },
  {
   "cell_type": "code",
   "execution_count": 5,
   "id": "b90f417a",
   "metadata": {
    "id": "b90f417a"
   },
   "outputs": [],
   "source": [
    "#Functio to call the model.\n",
    "def return_CCRMSQL(user_message, context):\n",
    "    client = OpenAI(\n",
    "    # This is the default and can be omitted\n",
    "    api_key=OPENAI_API_KEY,\n",
    ")\n",
    "\n",
    "    newcontext = context.copy()\n",
    "    newcontext.append({'role':'user', 'content':\"question: \" + user_message})\n",
    "\n",
    "    response = client.chat.completions.create(\n",
    "            model=\"gpt-3.5-turbo\",\n",
    "            messages=newcontext,\n",
    "            temperature=0,\n",
    "        )\n",
    "\n",
    "    return (response.choices[0].message.content)"
   ]
  },
  {
   "cell_type": "markdown",
   "id": "9e0a4c11-dfe1-46fe-ac2b-3ff825f9749c",
   "metadata": {
    "id": "9e0a4c11-dfe1-46fe-ac2b-3ff825f9749c"
   },
   "source": [
    "## NL2SQL Samples\n",
    "We're going to review some examples generated with the old prompt and others with the new prompt."
   ]
  },
  {
   "cell_type": "code",
   "execution_count": 7,
   "id": "59e8202c-ce34-487e-9037-c65a263423ed",
   "metadata": {
    "colab": {
     "base_uri": "https://localhost:8080/"
    },
    "id": "59e8202c-ce34-487e-9037-c65a263423ed",
    "outputId": "f7a97b9f-45d7-4f78-8979-a796c5bc42fb"
   },
   "outputs": [
    {
     "name": "stdout",
     "output_type": "stream",
     "text": [
      "```sql\n",
      "SELECT MIN(s.salary) AS lowest_salary\n",
      "FROM employees e\n",
      "JOIN studies st ON e.ID_Usr = st.ID_Usr\n",
      "JOIN salary s ON e.ID_Usr = s.ID_Usr\n",
      "WHERE st.Institution = 'MIT';\n",
      "```\n"
     ]
    }
   ],
   "source": [
    "#new\n",
    "context_user = context.copy()\n",
    "print(return_CCRMSQL(\"The lowest salary from all employees that have studied in the MIT\", context_user))"
   ]
  },
  {
   "cell_type": "code",
   "execution_count": 8,
   "id": "9c4766b1-48a9-456e-bc6c-4b6f41909aa4",
   "metadata": {
    "colab": {
     "base_uri": "https://localhost:8080/"
    },
    "id": "9c4766b1-48a9-456e-bc6c-4b6f41909aa4",
    "outputId": "029844da-5f1f-4f65-9adb-4d9c1cafacea"
   },
   "outputs": [
    {
     "name": "stdout",
     "output_type": "stream",
     "text": [
      "This is your SQL:\n",
      "```sql\n",
      "SELECT MIN(s.salary) AS lowest_salary\n",
      "FROM employees e\n",
      "JOIN studies st ON e.ID_usr = st.ID_usr\n",
      "JOIN salary s ON e.ID_usr = s.ID_usr\n",
      "WHERE st.Institution = 'MIT';\n",
      "```\n",
      "\n",
      "This SQL query retrieves the lowest salary from all employees who have studied at MIT. It joins the employees, studies, and salary tables on the employee ID, filters the results to only include employees who studied at MIT, and then selects the minimum salary value.\n"
     ]
    }
   ],
   "source": [
    "#old\n",
    "old_context_user = old_context.copy()\n",
    "print(return_CCRMSQL(\"The lowest salary from all employees that have studied in the MIT\", old_context_user))"
   ]
  },
  {
   "cell_type": "code",
   "execution_count": 10,
   "id": "38d8d370-0524-4a28-bd54-5e5cddb08e2c",
   "metadata": {
    "colab": {
     "base_uri": "https://localhost:8080/"
    },
    "id": "38d8d370-0524-4a28-bd54-5e5cddb08e2c",
    "outputId": "2934cdec-bea0-44db-b047-33e70dcf8ae8"
   },
   "outputs": [
    {
     "name": "stdout",
     "output_type": "stream",
     "text": [
      "```sql\n",
      "SELECT e.name\n",
      "FROM employees e\n",
      "JOIN salary s ON e.ID_Usr = s.ID_Usr\n",
      "WHERE LENGTH(e.name) = (SELECT MAX(LENGTH(name)) FROM employees)\n",
      "AND s.salary > 50000;\n",
      "```\n"
     ]
    }
   ],
   "source": [
    "#new\n",
    "print(return_CCRMSQL(\"The employee with the longest name nad a salaty higher than 50000\", context_user))"
   ]
  },
  {
   "cell_type": "code",
   "execution_count": 11,
   "id": "5aa318d4-dd9f-41db-8ff4-c1d87220f766",
   "metadata": {
    "colab": {
     "base_uri": "https://localhost:8080/"
    },
    "id": "5aa318d4-dd9f-41db-8ff4-c1d87220f766",
    "outputId": "605724a1-0d89-4ed9-d8ec-1aeeae6dc287"
   },
   "outputs": [
    {
     "name": "stdout",
     "output_type": "stream",
     "text": [
      "This is your SQL:\n",
      "```sql\n",
      "SELECT e.name, s.salary\n",
      "FROM employees e\n",
      "JOIN salary s ON e.ID_usr = s.ID_usr\n",
      "WHERE LENGTH(e.name) = (SELECT MAX(LENGTH(name)) FROM employees) AND s.salary > 50000;\n",
      "```\n",
      "\n",
      "This SQL query selects the name and salary of the employee with the longest name and a salary higher than 50000. It joins the \"employees\" and \"salary\" tables on the ID_usr column, then filters the results to only include the employee with the longest name and a salary greater than 50000.\n"
     ]
    }
   ],
   "source": [
    "#old\n",
    "print(return_CCRMSQL(\"The employee with the longest name nad a salaty higher than 50000\", old_context_user))"
   ]
  },
  {
   "cell_type": "markdown",
   "id": "0f31968e-74ad-4ae2-9537-b3d550b1be47",
   "metadata": {
    "id": "0f31968e-74ad-4ae2-9537-b3d550b1be47"
   },
   "source": [
    "# Exercise\n",
    " - Complete the prompts similar to what we did in class. \n",
    "     - Try at least 3 versions\n",
    "     - Be creative\n",
    " - Write a one page report summarizing your findings.\n",
    "     - Were there variations that didn't work well? i.e., where GPT either hallucinated or wrong.\n",
    "     - What did you learn?"
   ]
  },
  {
   "cell_type": "code",
   "execution_count": 12,
   "id": "45932e1d",
   "metadata": {},
   "outputs": [
    {
     "name": "stdout",
     "output_type": "stream",
     "text": [
      "```sql\n",
      "SELECT st.speciality, AVG(s.salary) AS avg_salary\n",
      "FROM studies st\n",
      "JOIN salary s ON st.ID_Usr = s.ID_Usr\n",
      "GROUP BY st.speciality\n",
      "ORDER BY avg_salary DESC\n",
      "LIMIT 1;\n",
      "```\n",
      "This is your SQL:\n",
      "```sql\n",
      "SELECT s.Speciality, AVG(sa.salary) AS avg_salary\n",
      "FROM studies s\n",
      "JOIN employees e ON s.ID_usr = e.ID_usr\n",
      "JOIN salary sa ON s.ID_usr = sa.ID_usr\n",
      "GROUP BY s.Speciality\n",
      "ORDER BY avg_salary DESC\n",
      "LIMIT 1;\n",
      "```\n",
      "\n",
      "This SQL query joins the tables `studies`, `employees`, and `salary` based on the user ID. It calculates the average salary for each study specialty, orders the results by average salary in descending order, and then selects the study specialty with the highest average salary in the company.\n"
     ]
    }
   ],
   "source": [
    "# Version 1\n",
    "\n",
    "#new\n",
    "print(return_CCRMSQL(\"The study specialty with the highest average salary in the company\", context_user))\n",
    "\n",
    "#old\n",
    "print(return_CCRMSQL(\"The study specialty with the highest average salary in the company\", old_context_user))"
   ]
  },
  {
   "cell_type": "code",
   "execution_count": 13,
   "id": "383a8695",
   "metadata": {},
   "outputs": [
    {
     "name": "stdout",
     "output_type": "stream",
     "text": [
      "To find the employee with the highest salary for every year of study finalization, you can use the following SQL query:\n",
      "\n",
      "```sql\n",
      "WITH max_salary_per_year AS (\n",
      "    SELECT st.years AS study_year, MAX(s.salary) AS max_salary\n",
      "    FROM employees e\n",
      "    JOIN salary s ON e.ID_Usr = s.ID_Usr\n",
      "    JOIN studies st ON e.ID_Usr = st.ID_Usr\n",
      "    GROUP BY st.years\n",
      ")\n",
      "\n",
      "SELECT e.name AS employee_name, m.study_year, m.max_salary AS highest_salary\n",
      "FROM employees e\n",
      "JOIN salary s ON e.ID_Usr = s.ID_Usr\n",
      "JOIN studies st ON e.ID_Usr = st.ID_Usr\n",
      "JOIN max_salary_per_year m ON st.years = m.study_year AND s.salary = m.max_salary;\n",
      "```\n",
      "\n",
      "In this query:\n",
      "1. The `max_salary_per_year` CTE calculates the maximum salary for each year of study finalization.\n",
      "2. The main query then joins the `employees`, `salary`, `studies`, and `max_salary_per_year` CTE to retrieve the employee name, study year, and highest salary for that year.\n",
      "\n",
      "This query will return the employee with the highest salary for every year of study finalization.\n",
      "This is your SQL:\n",
      "```sql\n",
      "SELECT e.name, s.year, s.salary\n",
      "FROM employees e\n",
      "JOIN salary s ON e.ID_usr = s.ID_usr\n",
      "WHERE (s.year, s.salary) IN (\n",
      "    SELECT year, MAX(salary)\n",
      "    FROM salary\n",
      "    GROUP BY year\n",
      ")\n",
      "```\n",
      "\n",
      "This SQL query retrieves the name of the employee, the year, and the salary of the employee with the highest salary for every year of study finalization. It achieves this by joining the \"employees\" and \"salary\" tables on the employee ID, then filters the results to only include the maximum salary for each year using a subquery with the MAX() function and a GROUP BY clause.\n"
     ]
    }
   ],
   "source": [
    "# Version 2\n",
    "\n",
    "#new\n",
    "print(return_CCRMSQL(\"The employee with the highest salary for every year of study finalization\", context_user))\n",
    "\n",
    "#old\n",
    "print(return_CCRMSQL(\"The employee with the highest salary for every year of study finalization\", old_context_user))"
   ]
  },
  {
   "cell_type": "code",
   "execution_count": 14,
   "id": "ae952089",
   "metadata": {},
   "outputs": [
    {
     "name": "stdout",
     "output_type": "stream",
     "text": [
      "To calculate the percentage increase in the workforce per year with respect to the previous year, you can use the following SQL query:\n",
      "\n",
      "```sql\n",
      "WITH EmployeeCount AS (\n",
      "    SELECT \n",
      "        year,\n",
      "        COUNT(*) AS total_employees\n",
      "    FROM salary\n",
      "    GROUP BY year\n",
      ")\n",
      "SELECT \n",
      "    e1.year,\n",
      "    e1.total_employees AS current_year_employees,\n",
      "    e2.total_employees AS previous_year_employees,\n",
      "    ((e1.total_employees - e2.total_employees) * 100.0 / e2.total_employees) AS percentage_increase\n",
      "FROM EmployeeCount e1\n",
      "JOIN EmployeeCount e2 ON e1.year = e2.year + 1\n",
      "ORDER BY e1.year;\n",
      "```\n",
      "\n",
      "In this query:\n",
      "- We first calculate the total number of employees for each year from the `salary` table.\n",
      "- Then, we join this data with itself to compare the total number of employees in the current year with the total number of employees in the previous year.\n",
      "- Finally, we calculate the percentage increase in the workforce per year with respect to the previous year.\n",
      "\n",
      "This query will provide you with the year, the total number of employees in the current year, the total number of employees in the previous year, and the percentage increase in the workforce per year with respect to the previous year.\n",
      "This is your SQL:\n",
      "```sql\n",
      "SELECT year, \n",
      "       (COUNT(ID_usr) - LAG(COUNT(ID_usr), 1, 0) OVER (ORDER BY year)) / LAG(COUNT(ID_usr), 1, 1) OVER (ORDER BY year) * 100 AS percentage_increase\n",
      "FROM salary\n",
      "GROUP BY year\n",
      "```\n",
      "\n",
      "This SQL query calculates the percentage increase in the workforce per year with respect to the previous year. It uses the LAG window function to compare the current year's workforce count with the previous year's count, then calculates the percentage increase.\n"
     ]
    }
   ],
   "source": [
    "# Version 3\n",
    "\n",
    "#new\n",
    "print(return_CCRMSQL(\"The *percentage* increase in workforce per year with respect to the previous year\", context_user))\n",
    "\n",
    "#old\n",
    "print(return_CCRMSQL(\"The *percentage* increase in workforce per year with respect to the previous year\", old_context_user))"
   ]
  },
  {
   "cell_type": "markdown",
   "id": "bb78a4ea",
   "metadata": {},
   "source": [
    "# Conclusions\n",
    "\n",
    "In this notebook, we explored different prompt engineering strategies for generating SQL queries from natural language questions using large language models. We compared the effectiveness of the \"old\" prompt (minimal schema, little context) with a \"new\" prompt (detailed schema, sample data, and few-shot examples), and then experimented with three creative prompt variations.\n",
    "\n",
    "## Key Findings\n",
    "\n",
    "- **Few-shot examples improve accuracy:** Including example questions and their corresponding SQL queries in the prompt (few-shot learning) helped the model better understand the expected output format and improved the correctness of the generated SQL.\n",
    "- **Schema clarity matters:** Providing clear table schemas and sample data rows made it easier for the model to infer relationships between tables and select appropriate columns, reducing hallucinations and errors.\n",
    "- **Prompt style influences output:** Prompts that encouraged step-by-step reasoning produced more interpretable results, while those that requested only SQL code led to concise but sometimes less accurate answers.\n",
    "- **Complex queries remain challenging:** For more complex analytical questions (e.g., calculating percentage increases or multi-table aggregations), the model sometimes struggled, especially with minimal context or ambiguous instructions.\n",
    "- **Natural language descriptions help:** Describing tables and columns in plain English, in addition to SQL schema, made the prompt more accessible and sometimes improved the model's understanding of the data.\n",
    "\n",
    "## Lessons Learned\n",
    "\n",
    "- The quality and structure of the prompt have a significant impact on the performance of LLMs for text-to-SQL tasks.\n",
    "- Providing both schema and example data, along with a few illustrative queries, is a best practice for maximizing accuracy.\n",
    "- For production use, prompts should be tailored to the complexity of the queries expected and the familiarity of the model with the database schema.\n",
    "- Iterative prompt design and testing are essential to identify and mitigate cases where the model may hallucinate or generate invalid SQL.\n",
    "\n",
    "Overall, prompt engineering is a powerful tool for guiding LLMs in structured data tasks, and thoughtful design can greatly enhance reliability and usefulness in real-world applications."
   ]
  }
 ],
 "metadata": {
  "colab": {
   "include_colab_link": true,
   "provenance": []
  },
  "kernelspec": {
   "display_name": "Python 3",
   "language": "python",
   "name": "python3"
  },
  "language_info": {
   "codemirror_mode": {
    "name": "ipython",
    "version": 3
   },
   "file_extension": ".py",
   "mimetype": "text/x-python",
   "name": "python",
   "nbconvert_exporter": "python",
   "pygments_lexer": "ipython3",
   "version": "3.13.3"
  }
 },
 "nbformat": 4,
 "nbformat_minor": 5
}
